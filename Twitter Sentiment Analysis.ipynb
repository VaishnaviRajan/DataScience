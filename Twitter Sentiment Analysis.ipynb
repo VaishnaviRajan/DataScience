{
  "cells": [
    {
      "cell_type": "markdown",
      "source": [
        "#Twitter data analysis\n",
        "Sentiment analysis of given twitter feed data using neural network"
      ],
      "metadata": {
        "id": "NXva1cQnNycb"
      }
    },
    {
      "cell_type": "markdown",
      "source": [
        "###Import necessary libraries"
      ],
      "metadata": {
        "id": "YdRP-THKOJ5X"
      }
    },
    {
      "cell_type": "code",
      "execution_count": null,
      "metadata": {
        "colab": {
          "base_uri": "https://localhost:8080/"
        },
        "id": "I5-jzxi90gzd",
        "outputId": "dcad6b4c-f64a-477f-95ac-2be54931480b"
      },
      "outputs": [
        {
          "output_type": "stream",
          "name": "stdout",
          "text": [
            "[nltk_data] Downloading package stopwords to /root/nltk_data...\n",
            "[nltk_data]   Package stopwords is already up-to-date!\n"
          ]
        }
      ],
      "source": [
        "import pandas as pd\n",
        "#pandas\n",
        "import numpy as np\n",
        "#numpy\n",
        "import matplotlib.pyplot as plt\n",
        "#matplotlib\n",
        "import seaborn as sns\n",
        "#seaborn\n",
        "from sklearn.model_selection import train_test_split\n",
        "from sklearn.metrics import classification_report\n",
        "#sklearn\n",
        "from keras.preprocessing.text import Tokenizer\n",
        "from keras.preprocessing.sequence import pad_sequences\n",
        "from keras.models import Sequential\n",
        "from keras.layers import Activation, Dense, Dropout, Embedding, Flatten, Conv1D, MaxPooling1D, LSTM\n",
        "from keras import utils\n",
        "from keras.callbacks import ReduceLROnPlateau, EarlyStopping\n",
        "from keras import regularizers\n",
        "#keras\n",
        "import tensorflow as tf\n",
        "#tensorflow\n",
        "import nltk \n",
        "nltk.download('stopwords')\n",
        "from nltk.corpus import stopwords\n",
        "from nltk.stem import SnowballStemmer\n",
        "#nltk\n",
        "import re\n",
        "import os\n",
        "#other useful stuff\n",
        "from wordcloud import WordCloud, STOPWORDS\n",
        "#wordclouds and cloud stopwords\n",
        "import warnings\n",
        "warnings.filterwarnings(\"ignore\")"
      ]
    },
    {
      "cell_type": "code",
      "execution_count": null,
      "metadata": {
        "id": "bmhuLVHD3Dcf"
      },
      "outputs": [],
      "source": [
        "import tensorflow_hub as hub\n",
        "assert tf.__version__ >= \"2.0\""
      ]
    },
    {
      "cell_type": "code",
      "execution_count": null,
      "metadata": {
        "id": "P29ayL773fHB",
        "colab": {
          "base_uri": "https://localhost:8080/"
        },
        "outputId": "c8d675a6-5b25-4f2e-ec67-a7c091276293"
      },
      "outputs": [
        {
          "output_type": "stream",
          "name": "stdout",
          "text": [
            "WARNING:tensorflow:From <ipython-input-6-5f142e31ccbf>:11: is_gpu_available (from tensorflow.python.framework.test_util) is deprecated and will be removed in a future version.\n",
            "Instructions for updating:\n",
            "Use `tf.config.list_physical_devices('GPU')` instead.\n"
          ]
        }
      ],
      "source": [
        "import sklearn\n",
        "assert sklearn.__version__ >= \"0.20\"\n",
        "from nltk.classify.scikitlearn import SklearnClassifier\n",
        "try:\n",
        "    # %tensorflow_version only exists in Colab.\n",
        "    %tensorflow_version 2.x\n",
        "    \n",
        "    IS_COLAB = True\n",
        "except Exception:\n",
        "    IS_COLAB = False\n",
        "if not tf.test.is_gpu_available():\n",
        "    print(\"No GPU was detected. This code can be very slow without a GPU.\")\n",
        "    if IS_COLAB:\n",
        "        print(\"Go to Runtime > Change runtime and select a GPU hardware accelerator.\")\n"
      ]
    },
    {
      "cell_type": "markdown",
      "source": [
        "####Import dataset\n",
        "dataset used from kaggle https://www.kaggle.com/kazanova/sentiment140"
      ],
      "metadata": {
        "id": "u05JEvZnOTF9"
      }
    },
    {
      "cell_type": "code",
      "execution_count": null,
      "metadata": {
        "colab": {
          "base_uri": "https://localhost:8080/"
        },
        "id": "tP2-MFOJ4r5u",
        "outputId": "fbe738f6-f769-4f6c-8dfc-2789654a4b44"
      },
      "outputs": [
        {
          "output_type": "execute_result",
          "data": {
            "text/plain": [
              "(1600000, 6)"
            ]
          },
          "metadata": {},
          "execution_count": 7
        }
      ],
      "source": [
        "columns = ['polarity','id','date','query_string','twitter_user','tweet']\n",
        "df = pd.read_csv('/content/drive/MyDrive/training.csv',\n",
        "                 header=None, \n",
        "                 names=columns, \n",
        "                 encoding='latin-1')\n",
        "df.shape"
      ]
    },
    {
      "cell_type": "code",
      "source": [
        "from google.colab import drive\n",
        "drive.mount('/content/drive')"
      ],
      "metadata": {
        "colab": {
          "base_uri": "https://localhost:8080/"
        },
        "id": "JL8xAs-tvSeC",
        "outputId": "23af3d79-5bb5-4381-9b24-235d0e90fdcc"
      },
      "execution_count": null,
      "outputs": [
        {
          "output_type": "stream",
          "name": "stdout",
          "text": [
            "Drive already mounted at /content/drive; to attempt to forcibly remount, call drive.mount(\"/content/drive\", force_remount=True).\n"
          ]
        }
      ]
    },
    {
      "cell_type": "code",
      "execution_count": null,
      "metadata": {
        "colab": {
          "base_uri": "https://localhost:8080/",
          "height": 337
        },
        "id": "l4pqhFok6kdl",
        "outputId": "e7afe4fe-acbb-4a08-acd9-a78a5656943b"
      },
      "outputs": [
        {
          "output_type": "execute_result",
          "data": {
            "text/html": [
              "\n",
              "  <div id=\"df-d5a4ee41-9581-4277-b473-0077d4bbe5f8\">\n",
              "    <div class=\"colab-df-container\">\n",
              "      <div>\n",
              "<style scoped>\n",
              "    .dataframe tbody tr th:only-of-type {\n",
              "        vertical-align: middle;\n",
              "    }\n",
              "\n",
              "    .dataframe tbody tr th {\n",
              "        vertical-align: top;\n",
              "    }\n",
              "\n",
              "    .dataframe thead th {\n",
              "        text-align: right;\n",
              "    }\n",
              "</style>\n",
              "<table border=\"1\" class=\"dataframe\">\n",
              "  <thead>\n",
              "    <tr style=\"text-align: right;\">\n",
              "      <th></th>\n",
              "      <th>polarity</th>\n",
              "      <th>id</th>\n",
              "      <th>date</th>\n",
              "      <th>query_string</th>\n",
              "      <th>twitter_user</th>\n",
              "      <th>tweet</th>\n",
              "    </tr>\n",
              "  </thead>\n",
              "  <tbody>\n",
              "    <tr>\n",
              "      <th>0</th>\n",
              "      <td>0</td>\n",
              "      <td>1467810369</td>\n",
              "      <td>Mon Apr 06 22:19:45 PDT 2009</td>\n",
              "      <td>NO_QUERY</td>\n",
              "      <td>_TheSpecialOne_</td>\n",
              "      <td>@switchfoot http://twitpic.com/2y1zl - Awww, t...</td>\n",
              "    </tr>\n",
              "    <tr>\n",
              "      <th>1</th>\n",
              "      <td>0</td>\n",
              "      <td>1467810672</td>\n",
              "      <td>Mon Apr 06 22:19:49 PDT 2009</td>\n",
              "      <td>NO_QUERY</td>\n",
              "      <td>scotthamilton</td>\n",
              "      <td>is upset that he can't update his Facebook by ...</td>\n",
              "    </tr>\n",
              "    <tr>\n",
              "      <th>2</th>\n",
              "      <td>0</td>\n",
              "      <td>1467810917</td>\n",
              "      <td>Mon Apr 06 22:19:53 PDT 2009</td>\n",
              "      <td>NO_QUERY</td>\n",
              "      <td>mattycus</td>\n",
              "      <td>@Kenichan I dived many times for the ball. Man...</td>\n",
              "    </tr>\n",
              "    <tr>\n",
              "      <th>3</th>\n",
              "      <td>0</td>\n",
              "      <td>1467811184</td>\n",
              "      <td>Mon Apr 06 22:19:57 PDT 2009</td>\n",
              "      <td>NO_QUERY</td>\n",
              "      <td>ElleCTF</td>\n",
              "      <td>my whole body feels itchy and like its on fire</td>\n",
              "    </tr>\n",
              "    <tr>\n",
              "      <th>4</th>\n",
              "      <td>0</td>\n",
              "      <td>1467811193</td>\n",
              "      <td>Mon Apr 06 22:19:57 PDT 2009</td>\n",
              "      <td>NO_QUERY</td>\n",
              "      <td>Karoli</td>\n",
              "      <td>@nationwideclass no, it's not behaving at all....</td>\n",
              "    </tr>\n",
              "  </tbody>\n",
              "</table>\n",
              "</div>\n",
              "      <button class=\"colab-df-convert\" onclick=\"convertToInteractive('df-d5a4ee41-9581-4277-b473-0077d4bbe5f8')\"\n",
              "              title=\"Convert this dataframe to an interactive table.\"\n",
              "              style=\"display:none;\">\n",
              "        \n",
              "  <svg xmlns=\"http://www.w3.org/2000/svg\" height=\"24px\"viewBox=\"0 0 24 24\"\n",
              "       width=\"24px\">\n",
              "    <path d=\"M0 0h24v24H0V0z\" fill=\"none\"/>\n",
              "    <path d=\"M18.56 5.44l.94 2.06.94-2.06 2.06-.94-2.06-.94-.94-2.06-.94 2.06-2.06.94zm-11 1L8.5 8.5l.94-2.06 2.06-.94-2.06-.94L8.5 2.5l-.94 2.06-2.06.94zm10 10l.94 2.06.94-2.06 2.06-.94-2.06-.94-.94-2.06-.94 2.06-2.06.94z\"/><path d=\"M17.41 7.96l-1.37-1.37c-.4-.4-.92-.59-1.43-.59-.52 0-1.04.2-1.43.59L10.3 9.45l-7.72 7.72c-.78.78-.78 2.05 0 2.83L4 21.41c.39.39.9.59 1.41.59.51 0 1.02-.2 1.41-.59l7.78-7.78 2.81-2.81c.8-.78.8-2.07 0-2.86zM5.41 20L4 18.59l7.72-7.72 1.47 1.35L5.41 20z\"/>\n",
              "  </svg>\n",
              "      </button>\n",
              "      \n",
              "  <style>\n",
              "    .colab-df-container {\n",
              "      display:flex;\n",
              "      flex-wrap:wrap;\n",
              "      gap: 12px;\n",
              "    }\n",
              "\n",
              "    .colab-df-convert {\n",
              "      background-color: #E8F0FE;\n",
              "      border: none;\n",
              "      border-radius: 50%;\n",
              "      cursor: pointer;\n",
              "      display: none;\n",
              "      fill: #1967D2;\n",
              "      height: 32px;\n",
              "      padding: 0 0 0 0;\n",
              "      width: 32px;\n",
              "    }\n",
              "\n",
              "    .colab-df-convert:hover {\n",
              "      background-color: #E2EBFA;\n",
              "      box-shadow: 0px 1px 2px rgba(60, 64, 67, 0.3), 0px 1px 3px 1px rgba(60, 64, 67, 0.15);\n",
              "      fill: #174EA6;\n",
              "    }\n",
              "\n",
              "    [theme=dark] .colab-df-convert {\n",
              "      background-color: #3B4455;\n",
              "      fill: #D2E3FC;\n",
              "    }\n",
              "\n",
              "    [theme=dark] .colab-df-convert:hover {\n",
              "      background-color: #434B5C;\n",
              "      box-shadow: 0px 1px 3px 1px rgba(0, 0, 0, 0.15);\n",
              "      filter: drop-shadow(0px 1px 2px rgba(0, 0, 0, 0.3));\n",
              "      fill: #FFFFFF;\n",
              "    }\n",
              "  </style>\n",
              "\n",
              "      <script>\n",
              "        const buttonEl =\n",
              "          document.querySelector('#df-d5a4ee41-9581-4277-b473-0077d4bbe5f8 button.colab-df-convert');\n",
              "        buttonEl.style.display =\n",
              "          google.colab.kernel.accessAllowed ? 'block' : 'none';\n",
              "\n",
              "        async function convertToInteractive(key) {\n",
              "          const element = document.querySelector('#df-d5a4ee41-9581-4277-b473-0077d4bbe5f8');\n",
              "          const dataTable =\n",
              "            await google.colab.kernel.invokeFunction('convertToInteractive',\n",
              "                                                     [key], {});\n",
              "          if (!dataTable) return;\n",
              "\n",
              "          const docLinkHtml = 'Like what you see? Visit the ' +\n",
              "            '<a target=\"_blank\" href=https://colab.research.google.com/notebooks/data_table.ipynb>data table notebook</a>'\n",
              "            + ' to learn more about interactive tables.';\n",
              "          element.innerHTML = '';\n",
              "          dataTable['output_type'] = 'display_data';\n",
              "          await google.colab.output.renderOutput(dataTable, element);\n",
              "          const docLink = document.createElement('div');\n",
              "          docLink.innerHTML = docLinkHtml;\n",
              "          element.appendChild(docLink);\n",
              "        }\n",
              "      </script>\n",
              "    </div>\n",
              "  </div>\n",
              "  "
            ],
            "text/plain": [
              "   polarity  ...                                              tweet\n",
              "0         0  ...  @switchfoot http://twitpic.com/2y1zl - Awww, t...\n",
              "1         0  ...  is upset that he can't update his Facebook by ...\n",
              "2         0  ...  @Kenichan I dived many times for the ball. Man...\n",
              "3         0  ...    my whole body feels itchy and like its on fire \n",
              "4         0  ...  @nationwideclass no, it's not behaving at all....\n",
              "\n",
              "[5 rows x 6 columns]"
            ]
          },
          "metadata": {},
          "execution_count": 8
        }
      ],
      "source": [
        "df.head()"
      ]
    },
    {
      "cell_type": "code",
      "execution_count": null,
      "metadata": {
        "colab": {
          "base_uri": "https://localhost:8080/",
          "height": 337
        },
        "id": "67ZUAjco63-D",
        "outputId": "88ba86f6-42e2-46c6-ed3d-2683ea37a8b6"
      },
      "outputs": [
        {
          "output_type": "execute_result",
          "data": {
            "text/html": [
              "\n",
              "  <div id=\"df-8dee4c47-54cc-42b4-9d05-e6a21012ffdc\">\n",
              "    <div class=\"colab-df-container\">\n",
              "      <div>\n",
              "<style scoped>\n",
              "    .dataframe tbody tr th:only-of-type {\n",
              "        vertical-align: middle;\n",
              "    }\n",
              "\n",
              "    .dataframe tbody tr th {\n",
              "        vertical-align: top;\n",
              "    }\n",
              "\n",
              "    .dataframe thead th {\n",
              "        text-align: right;\n",
              "    }\n",
              "</style>\n",
              "<table border=\"1\" class=\"dataframe\">\n",
              "  <thead>\n",
              "    <tr style=\"text-align: right;\">\n",
              "      <th></th>\n",
              "      <th>polarity</th>\n",
              "      <th>id</th>\n",
              "      <th>date</th>\n",
              "      <th>query_string</th>\n",
              "      <th>twitter_user</th>\n",
              "      <th>tweet</th>\n",
              "    </tr>\n",
              "  </thead>\n",
              "  <tbody>\n",
              "    <tr>\n",
              "      <th>1599995</th>\n",
              "      <td>4</td>\n",
              "      <td>2193601966</td>\n",
              "      <td>Tue Jun 16 08:40:49 PDT 2009</td>\n",
              "      <td>NO_QUERY</td>\n",
              "      <td>AmandaMarie1028</td>\n",
              "      <td>Just woke up. Having no school is the best fee...</td>\n",
              "    </tr>\n",
              "    <tr>\n",
              "      <th>1599996</th>\n",
              "      <td>4</td>\n",
              "      <td>2193601969</td>\n",
              "      <td>Tue Jun 16 08:40:49 PDT 2009</td>\n",
              "      <td>NO_QUERY</td>\n",
              "      <td>TheWDBoards</td>\n",
              "      <td>TheWDB.com - Very cool to hear old Walt interv...</td>\n",
              "    </tr>\n",
              "    <tr>\n",
              "      <th>1599997</th>\n",
              "      <td>4</td>\n",
              "      <td>2193601991</td>\n",
              "      <td>Tue Jun 16 08:40:49 PDT 2009</td>\n",
              "      <td>NO_QUERY</td>\n",
              "      <td>bpbabe</td>\n",
              "      <td>Are you ready for your MoJo Makeover? Ask me f...</td>\n",
              "    </tr>\n",
              "    <tr>\n",
              "      <th>1599998</th>\n",
              "      <td>4</td>\n",
              "      <td>2193602064</td>\n",
              "      <td>Tue Jun 16 08:40:49 PDT 2009</td>\n",
              "      <td>NO_QUERY</td>\n",
              "      <td>tinydiamondz</td>\n",
              "      <td>Happy 38th Birthday to my boo of alll time!!! ...</td>\n",
              "    </tr>\n",
              "    <tr>\n",
              "      <th>1599999</th>\n",
              "      <td>4</td>\n",
              "      <td>2193602129</td>\n",
              "      <td>Tue Jun 16 08:40:50 PDT 2009</td>\n",
              "      <td>NO_QUERY</td>\n",
              "      <td>RyanTrevMorris</td>\n",
              "      <td>happy #charitytuesday @theNSPCC @SparksCharity...</td>\n",
              "    </tr>\n",
              "  </tbody>\n",
              "</table>\n",
              "</div>\n",
              "      <button class=\"colab-df-convert\" onclick=\"convertToInteractive('df-8dee4c47-54cc-42b4-9d05-e6a21012ffdc')\"\n",
              "              title=\"Convert this dataframe to an interactive table.\"\n",
              "              style=\"display:none;\">\n",
              "        \n",
              "  <svg xmlns=\"http://www.w3.org/2000/svg\" height=\"24px\"viewBox=\"0 0 24 24\"\n",
              "       width=\"24px\">\n",
              "    <path d=\"M0 0h24v24H0V0z\" fill=\"none\"/>\n",
              "    <path d=\"M18.56 5.44l.94 2.06.94-2.06 2.06-.94-2.06-.94-.94-2.06-.94 2.06-2.06.94zm-11 1L8.5 8.5l.94-2.06 2.06-.94-2.06-.94L8.5 2.5l-.94 2.06-2.06.94zm10 10l.94 2.06.94-2.06 2.06-.94-2.06-.94-.94-2.06-.94 2.06-2.06.94z\"/><path d=\"M17.41 7.96l-1.37-1.37c-.4-.4-.92-.59-1.43-.59-.52 0-1.04.2-1.43.59L10.3 9.45l-7.72 7.72c-.78.78-.78 2.05 0 2.83L4 21.41c.39.39.9.59 1.41.59.51 0 1.02-.2 1.41-.59l7.78-7.78 2.81-2.81c.8-.78.8-2.07 0-2.86zM5.41 20L4 18.59l7.72-7.72 1.47 1.35L5.41 20z\"/>\n",
              "  </svg>\n",
              "      </button>\n",
              "      \n",
              "  <style>\n",
              "    .colab-df-container {\n",
              "      display:flex;\n",
              "      flex-wrap:wrap;\n",
              "      gap: 12px;\n",
              "    }\n",
              "\n",
              "    .colab-df-convert {\n",
              "      background-color: #E8F0FE;\n",
              "      border: none;\n",
              "      border-radius: 50%;\n",
              "      cursor: pointer;\n",
              "      display: none;\n",
              "      fill: #1967D2;\n",
              "      height: 32px;\n",
              "      padding: 0 0 0 0;\n",
              "      width: 32px;\n",
              "    }\n",
              "\n",
              "    .colab-df-convert:hover {\n",
              "      background-color: #E2EBFA;\n",
              "      box-shadow: 0px 1px 2px rgba(60, 64, 67, 0.3), 0px 1px 3px 1px rgba(60, 64, 67, 0.15);\n",
              "      fill: #174EA6;\n",
              "    }\n",
              "\n",
              "    [theme=dark] .colab-df-convert {\n",
              "      background-color: #3B4455;\n",
              "      fill: #D2E3FC;\n",
              "    }\n",
              "\n",
              "    [theme=dark] .colab-df-convert:hover {\n",
              "      background-color: #434B5C;\n",
              "      box-shadow: 0px 1px 3px 1px rgba(0, 0, 0, 0.15);\n",
              "      filter: drop-shadow(0px 1px 2px rgba(0, 0, 0, 0.3));\n",
              "      fill: #FFFFFF;\n",
              "    }\n",
              "  </style>\n",
              "\n",
              "      <script>\n",
              "        const buttonEl =\n",
              "          document.querySelector('#df-8dee4c47-54cc-42b4-9d05-e6a21012ffdc button.colab-df-convert');\n",
              "        buttonEl.style.display =\n",
              "          google.colab.kernel.accessAllowed ? 'block' : 'none';\n",
              "\n",
              "        async function convertToInteractive(key) {\n",
              "          const element = document.querySelector('#df-8dee4c47-54cc-42b4-9d05-e6a21012ffdc');\n",
              "          const dataTable =\n",
              "            await google.colab.kernel.invokeFunction('convertToInteractive',\n",
              "                                                     [key], {});\n",
              "          if (!dataTable) return;\n",
              "\n",
              "          const docLinkHtml = 'Like what you see? Visit the ' +\n",
              "            '<a target=\"_blank\" href=https://colab.research.google.com/notebooks/data_table.ipynb>data table notebook</a>'\n",
              "            + ' to learn more about interactive tables.';\n",
              "          element.innerHTML = '';\n",
              "          dataTable['output_type'] = 'display_data';\n",
              "          await google.colab.output.renderOutput(dataTable, element);\n",
              "          const docLink = document.createElement('div');\n",
              "          docLink.innerHTML = docLinkHtml;\n",
              "          element.appendChild(docLink);\n",
              "        }\n",
              "      </script>\n",
              "    </div>\n",
              "  </div>\n",
              "  "
            ],
            "text/plain": [
              "         polarity  ...                                              tweet\n",
              "1599995         4  ...  Just woke up. Having no school is the best fee...\n",
              "1599996         4  ...  TheWDB.com - Very cool to hear old Walt interv...\n",
              "1599997         4  ...  Are you ready for your MoJo Makeover? Ask me f...\n",
              "1599998         4  ...  Happy 38th Birthday to my boo of alll time!!! ...\n",
              "1599999         4  ...  happy #charitytuesday @theNSPCC @SparksCharity...\n",
              "\n",
              "[5 rows x 6 columns]"
            ]
          },
          "metadata": {},
          "execution_count": 9
        }
      ],
      "source": [
        "df.tail()"
      ]
    },
    {
      "cell_type": "markdown",
      "source": [
        "#Data Preprocessing\n",
        "keep only text ,polarity colum remove rest"
      ],
      "metadata": {
        "id": "PNFCoEAPOiIU"
      }
    },
    {
      "cell_type": "code",
      "execution_count": null,
      "metadata": {
        "colab": {
          "base_uri": "https://localhost:8080/",
          "height": 424
        },
        "id": "rA1KlVo367SD",
        "outputId": "93af606e-867a-4e84-c0df-323b2e7cd796"
      },
      "outputs": [
        {
          "output_type": "execute_result",
          "data": {
            "text/html": [
              "\n",
              "  <div id=\"df-753abb76-a40d-4d10-8248-8b6310479734\">\n",
              "    <div class=\"colab-df-container\">\n",
              "      <div>\n",
              "<style scoped>\n",
              "    .dataframe tbody tr th:only-of-type {\n",
              "        vertical-align: middle;\n",
              "    }\n",
              "\n",
              "    .dataframe tbody tr th {\n",
              "        vertical-align: top;\n",
              "    }\n",
              "\n",
              "    .dataframe thead th {\n",
              "        text-align: right;\n",
              "    }\n",
              "</style>\n",
              "<table border=\"1\" class=\"dataframe\">\n",
              "  <thead>\n",
              "    <tr style=\"text-align: right;\">\n",
              "      <th></th>\n",
              "      <th>polarity</th>\n",
              "      <th>tweet</th>\n",
              "    </tr>\n",
              "  </thead>\n",
              "  <tbody>\n",
              "    <tr>\n",
              "      <th>0</th>\n",
              "      <td>0</td>\n",
              "      <td>@switchfoot http://twitpic.com/2y1zl - Awww, t...</td>\n",
              "    </tr>\n",
              "    <tr>\n",
              "      <th>1</th>\n",
              "      <td>0</td>\n",
              "      <td>is upset that he can't update his Facebook by ...</td>\n",
              "    </tr>\n",
              "    <tr>\n",
              "      <th>2</th>\n",
              "      <td>0</td>\n",
              "      <td>@Kenichan I dived many times for the ball. Man...</td>\n",
              "    </tr>\n",
              "    <tr>\n",
              "      <th>3</th>\n",
              "      <td>0</td>\n",
              "      <td>my whole body feels itchy and like its on fire</td>\n",
              "    </tr>\n",
              "    <tr>\n",
              "      <th>4</th>\n",
              "      <td>0</td>\n",
              "      <td>@nationwideclass no, it's not behaving at all....</td>\n",
              "    </tr>\n",
              "    <tr>\n",
              "      <th>...</th>\n",
              "      <td>...</td>\n",
              "      <td>...</td>\n",
              "    </tr>\n",
              "    <tr>\n",
              "      <th>1599995</th>\n",
              "      <td>4</td>\n",
              "      <td>Just woke up. Having no school is the best fee...</td>\n",
              "    </tr>\n",
              "    <tr>\n",
              "      <th>1599996</th>\n",
              "      <td>4</td>\n",
              "      <td>TheWDB.com - Very cool to hear old Walt interv...</td>\n",
              "    </tr>\n",
              "    <tr>\n",
              "      <th>1599997</th>\n",
              "      <td>4</td>\n",
              "      <td>Are you ready for your MoJo Makeover? Ask me f...</td>\n",
              "    </tr>\n",
              "    <tr>\n",
              "      <th>1599998</th>\n",
              "      <td>4</td>\n",
              "      <td>Happy 38th Birthday to my boo of alll time!!! ...</td>\n",
              "    </tr>\n",
              "    <tr>\n",
              "      <th>1599999</th>\n",
              "      <td>4</td>\n",
              "      <td>happy #charitytuesday @theNSPCC @SparksCharity...</td>\n",
              "    </tr>\n",
              "  </tbody>\n",
              "</table>\n",
              "<p>1600000 rows × 2 columns</p>\n",
              "</div>\n",
              "      <button class=\"colab-df-convert\" onclick=\"convertToInteractive('df-753abb76-a40d-4d10-8248-8b6310479734')\"\n",
              "              title=\"Convert this dataframe to an interactive table.\"\n",
              "              style=\"display:none;\">\n",
              "        \n",
              "  <svg xmlns=\"http://www.w3.org/2000/svg\" height=\"24px\"viewBox=\"0 0 24 24\"\n",
              "       width=\"24px\">\n",
              "    <path d=\"M0 0h24v24H0V0z\" fill=\"none\"/>\n",
              "    <path d=\"M18.56 5.44l.94 2.06.94-2.06 2.06-.94-2.06-.94-.94-2.06-.94 2.06-2.06.94zm-11 1L8.5 8.5l.94-2.06 2.06-.94-2.06-.94L8.5 2.5l-.94 2.06-2.06.94zm10 10l.94 2.06.94-2.06 2.06-.94-2.06-.94-.94-2.06-.94 2.06-2.06.94z\"/><path d=\"M17.41 7.96l-1.37-1.37c-.4-.4-.92-.59-1.43-.59-.52 0-1.04.2-1.43.59L10.3 9.45l-7.72 7.72c-.78.78-.78 2.05 0 2.83L4 21.41c.39.39.9.59 1.41.59.51 0 1.02-.2 1.41-.59l7.78-7.78 2.81-2.81c.8-.78.8-2.07 0-2.86zM5.41 20L4 18.59l7.72-7.72 1.47 1.35L5.41 20z\"/>\n",
              "  </svg>\n",
              "      </button>\n",
              "      \n",
              "  <style>\n",
              "    .colab-df-container {\n",
              "      display:flex;\n",
              "      flex-wrap:wrap;\n",
              "      gap: 12px;\n",
              "    }\n",
              "\n",
              "    .colab-df-convert {\n",
              "      background-color: #E8F0FE;\n",
              "      border: none;\n",
              "      border-radius: 50%;\n",
              "      cursor: pointer;\n",
              "      display: none;\n",
              "      fill: #1967D2;\n",
              "      height: 32px;\n",
              "      padding: 0 0 0 0;\n",
              "      width: 32px;\n",
              "    }\n",
              "\n",
              "    .colab-df-convert:hover {\n",
              "      background-color: #E2EBFA;\n",
              "      box-shadow: 0px 1px 2px rgba(60, 64, 67, 0.3), 0px 1px 3px 1px rgba(60, 64, 67, 0.15);\n",
              "      fill: #174EA6;\n",
              "    }\n",
              "\n",
              "    [theme=dark] .colab-df-convert {\n",
              "      background-color: #3B4455;\n",
              "      fill: #D2E3FC;\n",
              "    }\n",
              "\n",
              "    [theme=dark] .colab-df-convert:hover {\n",
              "      background-color: #434B5C;\n",
              "      box-shadow: 0px 1px 3px 1px rgba(0, 0, 0, 0.15);\n",
              "      filter: drop-shadow(0px 1px 2px rgba(0, 0, 0, 0.3));\n",
              "      fill: #FFFFFF;\n",
              "    }\n",
              "  </style>\n",
              "\n",
              "      <script>\n",
              "        const buttonEl =\n",
              "          document.querySelector('#df-753abb76-a40d-4d10-8248-8b6310479734 button.colab-df-convert');\n",
              "        buttonEl.style.display =\n",
              "          google.colab.kernel.accessAllowed ? 'block' : 'none';\n",
              "\n",
              "        async function convertToInteractive(key) {\n",
              "          const element = document.querySelector('#df-753abb76-a40d-4d10-8248-8b6310479734');\n",
              "          const dataTable =\n",
              "            await google.colab.kernel.invokeFunction('convertToInteractive',\n",
              "                                                     [key], {});\n",
              "          if (!dataTable) return;\n",
              "\n",
              "          const docLinkHtml = 'Like what you see? Visit the ' +\n",
              "            '<a target=\"_blank\" href=https://colab.research.google.com/notebooks/data_table.ipynb>data table notebook</a>'\n",
              "            + ' to learn more about interactive tables.';\n",
              "          element.innerHTML = '';\n",
              "          dataTable['output_type'] = 'display_data';\n",
              "          await google.colab.output.renderOutput(dataTable, element);\n",
              "          const docLink = document.createElement('div');\n",
              "          docLink.innerHTML = docLinkHtml;\n",
              "          element.appendChild(docLink);\n",
              "        }\n",
              "      </script>\n",
              "    </div>\n",
              "  </div>\n",
              "  "
            ],
            "text/plain": [
              "         polarity                                              tweet\n",
              "0               0  @switchfoot http://twitpic.com/2y1zl - Awww, t...\n",
              "1               0  is upset that he can't update his Facebook by ...\n",
              "2               0  @Kenichan I dived many times for the ball. Man...\n",
              "3               0    my whole body feels itchy and like its on fire \n",
              "4               0  @nationwideclass no, it's not behaving at all....\n",
              "...           ...                                                ...\n",
              "1599995         4  Just woke up. Having no school is the best fee...\n",
              "1599996         4  TheWDB.com - Very cool to hear old Walt interv...\n",
              "1599997         4  Are you ready for your MoJo Makeover? Ask me f...\n",
              "1599998         4  Happy 38th Birthday to my boo of alll time!!! ...\n",
              "1599999         4  happy #charitytuesday @theNSPCC @SparksCharity...\n",
              "\n",
              "[1600000 rows x 2 columns]"
            ]
          },
          "metadata": {},
          "execution_count": 10
        }
      ],
      "source": [
        "df=df[['polarity','tweet']]\n",
        "df"
      ]
    },
    {
      "cell_type": "code",
      "execution_count": null,
      "metadata": {
        "colab": {
          "base_uri": "https://localhost:8080/"
        },
        "id": "nBasdb1o7Mgm",
        "outputId": "70030a46-be51-4c01-b614-a6a438835e2d"
      },
      "outputs": [
        {
          "output_type": "execute_result",
          "data": {
            "text/plain": [
              "4    800000\n",
              "0    800000\n",
              "Name: polarity, dtype: int64"
            ]
          },
          "metadata": {},
          "execution_count": 11
        }
      ],
      "source": [
        "df['polarity'].value_counts()"
      ]
    },
    {
      "cell_type": "markdown",
      "metadata": {
        "id": "a9b_5JjA7W4t"
      },
      "source": [
        "There is no tweets with neutral \"2\"tag , So its binary classification problem now"
      ]
    },
    {
      "cell_type": "code",
      "execution_count": null,
      "metadata": {
        "colab": {
          "base_uri": "https://localhost:8080/",
          "height": 295
        },
        "id": "b_wgWtw07bG0",
        "outputId": "ec77a390-b12b-4f83-957a-07296563fa8a"
      },
      "outputs": [
        {
          "output_type": "display_data",
          "data": {
            "image/png": "[encoded data removed]",
            "text/plain": [
              "<Figure size 432x288 with 1 Axes>"
            ]
          },
          "metadata": {
            "needs_background": "light"
          }
        }
      ],
      "source": [
        "df['polarity'] = df['polarity'].replace(4,1)\n",
        "ax = df.groupby('polarity').count().plot(kind='bar', title='Distribution of data',\n",
        "                                               legend=False)\n",
        "ax.set_xticklabels(['Negative','Positive'], rotation=0)\n",
        "\n",
        "# Storing data in lists.\n",
        "text, sentiment = list(df['tweet']), list(df['polarity'])"
      ]
    },
    {
      "cell_type": "markdown",
      "metadata": {
        "id": "4HHvwp8I78P1"
      },
      "source": [
        "As a quick and easy observation, we can say that dataset has no imbalanced label problem. Negative and Positive labels are equal. The situation of equilibrium will let model to learn more accurate"
      ]
    },
    {
      "cell_type": "markdown",
      "source": [
        "Check for missing values"
      ],
      "metadata": {
        "id": "sOpFUCiAP7F0"
      }
    },
    {
      "cell_type": "code",
      "execution_count": null,
      "metadata": {
        "colab": {
          "base_uri": "https://localhost:8080/",
          "height": 112
        },
        "id": "beM4fFvl79pC",
        "outputId": "6ce007df-7e40-4b1a-825c-b8dfbf4f3e0d"
      },
      "outputs": [
        {
          "output_type": "execute_result",
          "data": {
            "text/html": [
              "<style  type=\"text/css\" >\n",
              "#T_9cf7e1bc_664b_11ec_9a59_0242ac1c0002row0_col0,#T_9cf7e1bc_664b_11ec_9a59_0242ac1c0002row0_col1,#T_9cf7e1bc_664b_11ec_9a59_0242ac1c0002row1_col0,#T_9cf7e1bc_664b_11ec_9a59_0242ac1c0002row1_col1{\n",
              "            background-color:  #fff7fb;\n",
              "            color:  #000000;\n",
              "        }</style><table id=\"T_9cf7e1bc_664b_11ec_9a59_0242ac1c0002\" class=\"dataframe\"><thead>    <tr>        <th class=\"blank level0\" ></th>        <th class=\"col_heading level0 col0\" >Missing values</th>        <th class=\"col_heading level0 col1\" >Percentage</th>    </tr></thead><tbody>\n",
              "                <tr>\n",
              "                        <th id=\"T_9cf7e1bc_664b_11ec_9a59_0242ac1c0002level0_row0\" class=\"row_heading level0 row0\" >tweet</th>\n",
              "                        <td id=\"T_9cf7e1bc_664b_11ec_9a59_0242ac1c0002row0_col0\" class=\"data row0 col0\" >0</td>\n",
              "                        <td id=\"T_9cf7e1bc_664b_11ec_9a59_0242ac1c0002row0_col1\" class=\"data row0 col1\" >0.000000</td>\n",
              "            </tr>\n",
              "            <tr>\n",
              "                        <th id=\"T_9cf7e1bc_664b_11ec_9a59_0242ac1c0002level0_row1\" class=\"row_heading level0 row1\" >polarity</th>\n",
              "                        <td id=\"T_9cf7e1bc_664b_11ec_9a59_0242ac1c0002row1_col0\" class=\"data row1 col0\" >0</td>\n",
              "                        <td id=\"T_9cf7e1bc_664b_11ec_9a59_0242ac1c0002row1_col1\" class=\"data row1 col1\" >0.000000</td>\n",
              "            </tr>\n",
              "    </tbody></table>"
            ],
            "text/plain": [
              "<pandas.io.formats.style.Styler at 0x7f46e493f310>"
            ]
          },
          "metadata": {},
          "execution_count": 13
        }
      ],
      "source": [
        "missing_data = df.isna().sum().sort_values(ascending=False)\n",
        "percentage_missing = round((df.isnull().sum()/df.isnull().count()).sort_values(ascending=False)*100,2)\n",
        "missing_info = pd.concat([missing_data,percentage_missing],keys=['Missing values','Percentage'],axis=1)\n",
        "missing_info.style.background_gradient()"
      ]
    },
    {
      "cell_type": "markdown",
      "source": [
        "Remove stop words,url's from the text field"
      ],
      "metadata": {
        "id": "EFLaaaUPQAFW"
      }
    },
    {
      "cell_type": "code",
      "execution_count": null,
      "metadata": {
        "id": "xeEkeaOHMCdM"
      },
      "outputs": [],
      "source": [
        "english_stopwords = stopwords.words('english')\n",
        "#base of english stopwords\n",
        "stemmer = SnowballStemmer('english')\n",
        "#stemming algorithm\n",
        "regex = \"@\\S+|https?:\\S+|http?:\\S|[^A-Za-z0-9]+\"\n",
        "#regex for mentions and links in tweets"
      ]
    },
    {
      "cell_type": "code",
      "execution_count": null,
      "metadata": {
        "id": "0dXRE5IkMIsP"
      },
      "outputs": [],
      "source": [
        "def preprocess(content, stem=False):\n",
        "  content = re.sub(regex, ' ', str(content).lower()).strip()\n",
        "  tokens = []\n",
        "  for token in content.split():\n",
        "    if token not in english_stopwords:\n",
        "      tokens.append(stemmer.stem(token))\n",
        "  return \" \".join(tokens)"
      ]
    },
    {
      "cell_type": "code",
      "execution_count": null,
      "metadata": {
        "colab": {
          "base_uri": "https://localhost:8080/",
          "height": 206
        },
        "id": "dBUGZVZoMM73",
        "outputId": "b9e2b1b4-551f-4630-f664-bb3cbf2760b6"
      },
      "outputs": [
        {
          "output_type": "execute_result",
          "data": {
            "text/html": [
              "\n",
              "  <div id=\"df-a5296b5c-cd38-4a24-8054-16bf21cf22da\">\n",
              "    <div class=\"colab-df-container\">\n",
              "      <div>\n",
              "<style scoped>\n",
              "    .dataframe tbody tr th:only-of-type {\n",
              "        vertical-align: middle;\n",
              "    }\n",
              "\n",
              "    .dataframe tbody tr th {\n",
              "        vertical-align: top;\n",
              "    }\n",
              "\n",
              "    .dataframe thead th {\n",
              "        text-align: right;\n",
              "    }\n",
              "</style>\n",
              "<table border=\"1\" class=\"dataframe\">\n",
              "  <thead>\n",
              "    <tr style=\"text-align: right;\">\n",
              "      <th></th>\n",
              "      <th>polarity</th>\n",
              "      <th>tweet</th>\n",
              "    </tr>\n",
              "  </thead>\n",
              "  <tbody>\n",
              "    <tr>\n",
              "      <th>0</th>\n",
              "      <td>0</td>\n",
              "      <td>awww bummer shoulda got david carr third day</td>\n",
              "    </tr>\n",
              "    <tr>\n",
              "      <th>1</th>\n",
              "      <td>0</td>\n",
              "      <td>upset updat facebook text might cri result sch...</td>\n",
              "    </tr>\n",
              "    <tr>\n",
              "      <th>2</th>\n",
              "      <td>0</td>\n",
              "      <td>dive mani time ball manag save 50 rest go bound</td>\n",
              "    </tr>\n",
              "    <tr>\n",
              "      <th>3</th>\n",
              "      <td>0</td>\n",
              "      <td>whole bodi feel itchi like fire</td>\n",
              "    </tr>\n",
              "    <tr>\n",
              "      <th>4</th>\n",
              "      <td>0</td>\n",
              "      <td>behav mad see</td>\n",
              "    </tr>\n",
              "  </tbody>\n",
              "</table>\n",
              "</div>\n",
              "      <button class=\"colab-df-convert\" onclick=\"convertToInteractive('df-a5296b5c-cd38-4a24-8054-16bf21cf22da')\"\n",
              "              title=\"Convert this dataframe to an interactive table.\"\n",
              "              style=\"display:none;\">\n",
              "        \n",
              "  <svg xmlns=\"http://www.w3.org/2000/svg\" height=\"24px\"viewBox=\"0 0 24 24\"\n",
              "       width=\"24px\">\n",
              "    <path d=\"M0 0h24v24H0V0z\" fill=\"none\"/>\n",
              "    <path d=\"M18.56 5.44l.94 2.06.94-2.06 2.06-.94-2.06-.94-.94-2.06-.94 2.06-2.06.94zm-11 1L8.5 8.5l.94-2.06 2.06-.94-2.06-.94L8.5 2.5l-.94 2.06-2.06.94zm10 10l.94 2.06.94-2.06 2.06-.94-2.06-.94-.94-2.06-.94 2.06-2.06.94z\"/><path d=\"M17.41 7.96l-1.37-1.37c-.4-.4-.92-.59-1.43-.59-.52 0-1.04.2-1.43.59L10.3 9.45l-7.72 7.72c-.78.78-.78 2.05 0 2.83L4 21.41c.39.39.9.59 1.41.59.51 0 1.02-.2 1.41-.59l7.78-7.78 2.81-2.81c.8-.78.8-2.07 0-2.86zM5.41 20L4 18.59l7.72-7.72 1.47 1.35L5.41 20z\"/>\n",
              "  </svg>\n",
              "      </button>\n",
              "      \n",
              "  <style>\n",
              "    .colab-df-container {\n",
              "      display:flex;\n",
              "      flex-wrap:wrap;\n",
              "      gap: 12px;\n",
              "    }\n",
              "\n",
              "    .colab-df-convert {\n",
              "      background-color: #E8F0FE;\n",
              "      border: none;\n",
              "      border-radius: 50%;\n",
              "      cursor: pointer;\n",
              "      display: none;\n",
              "      fill: #1967D2;\n",
              "      height: 32px;\n",
              "      padding: 0 0 0 0;\n",
              "      width: 32px;\n",
              "    }\n",
              "\n",
              "    .colab-df-convert:hover {\n",
              "      background-color: #E2EBFA;\n",
              "      box-shadow: 0px 1px 2px rgba(60, 64, 67, 0.3), 0px 1px 3px 1px rgba(60, 64, 67, 0.15);\n",
              "      fill: #174EA6;\n",
              "    }\n",
              "\n",
              "    [theme=dark] .colab-df-convert {\n",
              "      background-color: #3B4455;\n",
              "      fill: #D2E3FC;\n",
              "    }\n",
              "\n",
              "    [theme=dark] .colab-df-convert:hover {\n",
              "      background-color: #434B5C;\n",
              "      box-shadow: 0px 1px 3px 1px rgba(0, 0, 0, 0.15);\n",
              "      filter: drop-shadow(0px 1px 2px rgba(0, 0, 0, 0.3));\n",
              "      fill: #FFFFFF;\n",
              "    }\n",
              "  </style>\n",
              "\n",
              "      <script>\n",
              "        const buttonEl =\n",
              "          document.querySelector('#df-a5296b5c-cd38-4a24-8054-16bf21cf22da button.colab-df-convert');\n",
              "        buttonEl.style.display =\n",
              "          google.colab.kernel.accessAllowed ? 'block' : 'none';\n",
              "\n",
              "        async function convertToInteractive(key) {\n",
              "          const element = document.querySelector('#df-a5296b5c-cd38-4a24-8054-16bf21cf22da');\n",
              "          const dataTable =\n",
              "            await google.colab.kernel.invokeFunction('convertToInteractive',\n",
              "                                                     [key], {});\n",
              "          if (!dataTable) return;\n",
              "\n",
              "          const docLinkHtml = 'Like what you see? Visit the ' +\n",
              "            '<a target=\"_blank\" href=https://colab.research.google.com/notebooks/data_table.ipynb>data table notebook</a>'\n",
              "            + ' to learn more about interactive tables.';\n",
              "          element.innerHTML = '';\n",
              "          dataTable['output_type'] = 'display_data';\n",
              "          await google.colab.output.renderOutput(dataTable, element);\n",
              "          const docLink = document.createElement('div');\n",
              "          docLink.innerHTML = docLinkHtml;\n",
              "          element.appendChild(docLink);\n",
              "        }\n",
              "      </script>\n",
              "    </div>\n",
              "  </div>\n",
              "  "
            ],
            "text/plain": [
              "   polarity                                              tweet\n",
              "0         0       awww bummer shoulda got david carr third day\n",
              "1         0  upset updat facebook text might cri result sch...\n",
              "2         0    dive mani time ball manag save 50 rest go bound\n",
              "3         0                    whole bodi feel itchi like fire\n",
              "4         0                                      behav mad see"
            ]
          },
          "metadata": {},
          "execution_count": 16
        }
      ],
      "source": [
        "df.tweet = df.tweet.apply(lambda x: preprocess(x))\n",
        "df.head()"
      ]
    },
    {
      "cell_type": "code",
      "source": [
        ""
      ],
      "metadata": {
        "id": "FenSzrb3_SFJ"
      },
      "execution_count": null,
      "outputs": []
    },
    {
      "cell_type": "code",
      "execution_count": null,
      "metadata": {
        "id": "0BHlZIXFMtLI"
      },
      "outputs": [],
      "source": [
        "text_embeddings  = hub.text_embedding_column(\n",
        "  \"tweet\", \n",
        "  module_spec=\"https://tfhub.dev/google/universal-sentence-encoder/2\"\n",
        ")"
      ]
    },
    {
      "cell_type": "markdown",
      "source": [
        "#Split train,test dataset"
      ],
      "metadata": {
        "id": "gkYoLnVnQYfQ"
      }
    },
    {
      "cell_type": "code",
      "execution_count": null,
      "metadata": {
        "id": "BXBleLb5Phx1"
      },
      "outputs": [],
      "source": [
        "X_train, X_test, y_train, y_test = train_test_split(df['tweet'], df['polarity'], test_size=0.3, random_state=42)"
      ]
    },
    {
      "cell_type": "markdown",
      "source": [
        "#Label Encoding"
      ],
      "metadata": {
        "id": "eiXjtrsbQV6i"
      }
    },
    {
      "cell_type": "code",
      "source": [
        "from sklearn.preprocessing import LabelEncoder\n",
        "from tensorflow import keras\n",
        "label_encoder = LabelEncoder()\n",
        "y_train = label_encoder.fit_transform(y_train)\n",
        "y_test = label_encoder.fit_transform(y_test)                     \n",
        "y_train[:5]\n",
        "\n",
        "\n",
        "\n",
        "y_train = keras.utils.to_categorical(y_train)\n",
        "y_test = keras.utils.to_categorical(y_test)\n",
        "\n",
        "y_train[0:5]\n",
        "\n",
        "\n",
        "\n",
        "X_train.shape # Should be (nb_of_records, )\n",
        "\n",
        "\n",
        "\n",
        "y_test.shape "
      ],
      "metadata": {
        "colab": {
          "base_uri": "https://localhost:8080/"
        },
        "id": "yp8RC6jXEgUB",
        "outputId": "baaea7c1-bf11-4999-dff4-a84f7c898576"
      },
      "execution_count": null,
      "outputs": [
        {
          "output_type": "execute_result",
          "data": {
            "text/plain": [
              "(480000, 2)"
            ]
          },
          "metadata": {},
          "execution_count": 84
        }
      ]
    },
    {
      "cell_type": "code",
      "source": [
        "\n",
        "\n",
        "MODEL = \"nnlm-en-dim128\"\n",
        "VERSION = 2\n",
        "URL = \"https://tfhub.dev/google/\"+MODEL+\"/\"+str(VERSION)\n",
        "print (URL)\n",
        "\n",
        "\n",
        "hub_layer1 = hub.KerasLayer(URL, output_shape=[128], \n",
        "                           input_shape=[], \n",
        "                           dtype=tf.string\n",
        "                          )\n",
        "\n"
      ],
      "metadata": {
        "colab": {
          "base_uri": "https://localhost:8080/"
        },
        "id": "syJQHDuiAmVd",
        "outputId": "41bf1c4e-f175-476f-8690-0f43cd453f98"
      },
      "execution_count": null,
      "outputs": [
        {
          "output_type": "stream",
          "name": "stdout",
          "text": [
            "https://tfhub.dev/google/nnlm-en-dim128/2\n"
          ]
        }
      ]
    },
    {
      "cell_type": "markdown",
      "source": [
        "#Model build\n",
        "Model without l2 regularizers"
      ],
      "metadata": {
        "id": "S-sOsJa7QffK"
      }
    },
    {
      "cell_type": "code",
      "source": [
        "model = Sequential()\n",
        "model.add(hub_layer1)\n",
        "model.add(Dense(128, activation='relu'))\n",
        "model.add(Dropout(0.5))\n",
        "model.add(Dense(64, activation='relu'))\n",
        "model.add(Dropout(0.5))\n",
        "model.add(Dense(32, activation='relu'))\n",
        "model.add(Dropout(0.5))\n",
        "model.add(Dense(2, activation='softmax'))"
      ],
      "metadata": {
        "id": "7PssB3imBNKI"
      },
      "execution_count": null,
      "outputs": []
    },
    {
      "cell_type": "code",
      "source": [
        "model.summary()"
      ],
      "metadata": {
        "colab": {
          "base_uri": "https://localhost:8080/"
        },
        "id": "uz22dfRPBQSs",
        "outputId": "5be21272-d72e-4b76-e08d-a7c4b2a4de46"
      },
      "execution_count": null,
      "outputs": [
        {
          "output_type": "stream",
          "name": "stdout",
          "text": [
            "Model: \"sequential_3\"\n",
            "_________________________________________________________________\n",
            " Layer (type)                Output Shape              Param #   \n",
            "=================================================================\n",
            " keras_layer_3 (KerasLayer)  (None, 128)               124642688 \n",
            "                                                                 \n",
            " dense_9 (Dense)             (None, 128)               16512     \n",
            "                                                                 \n",
            " dropout_6 (Dropout)         (None, 128)               0         \n",
            "                                                                 \n",
            " dense_10 (Dense)            (None, 64)                8256      \n",
            "                                                                 \n",
            " dropout_7 (Dropout)         (None, 64)                0         \n",
            "                                                                 \n",
            " dense_11 (Dense)            (None, 32)                2080      \n",
            "                                                                 \n",
            " dropout_8 (Dropout)         (None, 32)                0         \n",
            "                                                                 \n",
            " dense_12 (Dense)            (None, 2)                 66        \n",
            "                                                                 \n",
            "=================================================================\n",
            "Total params: 124,669,602\n",
            "Trainable params: 26,914\n",
            "Non-trainable params: 124,642,688\n",
            "_________________________________________________________________\n"
          ]
        }
      ]
    },
    {
      "cell_type": "code",
      "source": [
        "keras.utils.plot_model(model, \n",
        "                       #to_file='model.png',\n",
        "                      show_shapes=True, show_layer_names=True, rankdir='LR', expand_nested=False, dpi=128)"
      ],
      "metadata": {
        "colab": {
          "base_uri": "https://localhost:8080/",
          "height": 72
        },
        "id": "gWiSeGrEQtdG",
        "outputId": "f69a6a6d-7741-4354-cfdb-651baab30fe2"
      },
      "execution_count": null,
      "outputs": [
        {
          "output_type": "execute_result",
          "data": {
            "image/png": "[encoded data removed]",
            "text/plain": [
              "<IPython.core.display.Image object>"
            ]
          },
          "metadata": {},
          "execution_count": 103
        }
      ]
    },
    {
      "cell_type": "code",
      "source": [
        "model.compile(loss='categorical_crossentropy', optimizer='adam', metrics=['accuracy'])"
      ],
      "metadata": {
        "id": "G7JHTSS-BcmN"
      },
      "execution_count": null,
      "outputs": []
    },
    {
      "cell_type": "markdown",
      "source": [
        "#Execute model"
      ],
      "metadata": {
        "id": "tyg59EexQx4H"
      }
    },
    {
      "cell_type": "code",
      "source": [
        "hist = model.fit(X_train, \n",
        "                 y_train, \n",
        "                 epochs=40,\n",
        "                 batch_size=512,\n",
        "                 validation_split=0.3,\n",
        "                 verbose = 1)"
      ],
      "metadata": {
        "colab": {
          "base_uri": "https://localhost:8080/"
        },
        "id": "Dn9ocQRVBhiU",
        "outputId": "cf07e835-7996-4458-d0f7-c5f43b20406b"
      },
      "execution_count": null,
      "outputs": [
        {
          "output_type": "stream",
          "name": "stdout",
          "text": [
            "Epoch 1/40\n",
            "1532/1532 [==============================] - 30s 18ms/step - loss: 0.5942 - accuracy: 0.6817 - val_loss: 0.5573 - val_accuracy: 0.7106\n",
            "Epoch 2/40\n",
            "1532/1532 [==============================] - 29s 19ms/step - loss: 0.5698 - accuracy: 0.7052 - val_loss: 0.5479 - val_accuracy: 0.7179\n",
            "Epoch 3/40\n",
            "1532/1532 [==============================] - 28s 18ms/step - loss: 0.5635 - accuracy: 0.7100 - val_loss: 0.5426 - val_accuracy: 0.7220\n",
            "Epoch 4/40\n",
            "1532/1532 [==============================] - 27s 18ms/step - loss: 0.5602 - accuracy: 0.7126 - val_loss: 0.5415 - val_accuracy: 0.7236\n",
            "Epoch 5/40\n",
            "1532/1532 [==============================] - 27s 18ms/step - loss: 0.5576 - accuracy: 0.7156 - val_loss: 0.5390 - val_accuracy: 0.7248\n",
            "Epoch 6/40\n",
            "1532/1532 [==============================] - 27s 18ms/step - loss: 0.5562 - accuracy: 0.7161 - val_loss: 0.5388 - val_accuracy: 0.7257\n",
            "Epoch 7/40\n",
            "1532/1532 [==============================] - 27s 18ms/step - loss: 0.5545 - accuracy: 0.7172 - val_loss: 0.5359 - val_accuracy: 0.7266\n",
            "Epoch 8/40\n",
            "1532/1532 [==============================] - 27s 18ms/step - loss: 0.5538 - accuracy: 0.7181 - val_loss: 0.5374 - val_accuracy: 0.7269\n",
            "Epoch 9/40\n",
            "1532/1532 [==============================] - 27s 18ms/step - loss: 0.5526 - accuracy: 0.7184 - val_loss: 0.5350 - val_accuracy: 0.7278\n",
            "Epoch 10/40\n",
            "1532/1532 [==============================] - 27s 18ms/step - loss: 0.5518 - accuracy: 0.7192 - val_loss: 0.5344 - val_accuracy: 0.7286\n",
            "Epoch 11/40\n",
            "1532/1532 [==============================] - 26s 17ms/step - loss: 0.5514 - accuracy: 0.7194 - val_loss: 0.5333 - val_accuracy: 0.7286\n",
            "Epoch 12/40\n",
            "1532/1532 [==============================] - 27s 18ms/step - loss: 0.5507 - accuracy: 0.7199 - val_loss: 0.5330 - val_accuracy: 0.7294\n",
            "Epoch 13/40\n",
            "1532/1532 [==============================] - 26s 17ms/step - loss: 0.5499 - accuracy: 0.7207 - val_loss: 0.5330 - val_accuracy: 0.7298\n",
            "Epoch 14/40\n",
            "1532/1532 [==============================] - 26s 17ms/step - loss: 0.5495 - accuracy: 0.7210 - val_loss: 0.5316 - val_accuracy: 0.7298\n",
            "Epoch 15/40\n",
            "1532/1532 [==============================] - 27s 18ms/step - loss: 0.5495 - accuracy: 0.7206 - val_loss: 0.5307 - val_accuracy: 0.7303\n",
            "Epoch 16/40\n",
            "1532/1532 [==============================] - 26s 17ms/step - loss: 0.5485 - accuracy: 0.7218 - val_loss: 0.5329 - val_accuracy: 0.7293\n",
            "Epoch 17/40\n",
            "1532/1532 [==============================] - 26s 17ms/step - loss: 0.5481 - accuracy: 0.7215 - val_loss: 0.5333 - val_accuracy: 0.7297\n",
            "Epoch 18/40\n",
            "1532/1532 [==============================] - 26s 17ms/step - loss: 0.5481 - accuracy: 0.7224 - val_loss: 0.5311 - val_accuracy: 0.7304\n",
            "Epoch 19/40\n",
            "1532/1532 [==============================] - 26s 17ms/step - loss: 0.5477 - accuracy: 0.7224 - val_loss: 0.5306 - val_accuracy: 0.7304\n",
            "Epoch 20/40\n",
            "1532/1532 [==============================] - 25s 17ms/step - loss: 0.5478 - accuracy: 0.7222 - val_loss: 0.5317 - val_accuracy: 0.7304\n",
            "Epoch 21/40\n",
            "1532/1532 [==============================] - 26s 17ms/step - loss: 0.5476 - accuracy: 0.7225 - val_loss: 0.5318 - val_accuracy: 0.7311\n",
            "Epoch 22/40\n",
            "1532/1532 [==============================] - 26s 17ms/step - loss: 0.5469 - accuracy: 0.7230 - val_loss: 0.5318 - val_accuracy: 0.7314\n",
            "Epoch 23/40\n",
            "1532/1532 [==============================] - 26s 17ms/step - loss: 0.5471 - accuracy: 0.7227 - val_loss: 0.5313 - val_accuracy: 0.7314\n",
            "Epoch 24/40\n",
            "1532/1532 [==============================] - 26s 17ms/step - loss: 0.5466 - accuracy: 0.7231 - val_loss: 0.5303 - val_accuracy: 0.7308\n",
            "Epoch 25/40\n",
            "1532/1532 [==============================] - 26s 17ms/step - loss: 0.5462 - accuracy: 0.7231 - val_loss: 0.5287 - val_accuracy: 0.7312\n",
            "Epoch 26/40\n",
            "1532/1532 [==============================] - 25s 17ms/step - loss: 0.5464 - accuracy: 0.7235 - val_loss: 0.5312 - val_accuracy: 0.7317\n",
            "Epoch 27/40\n",
            "1532/1532 [==============================] - 26s 17ms/step - loss: 0.5456 - accuracy: 0.7237 - val_loss: 0.5308 - val_accuracy: 0.7319\n",
            "Epoch 28/40\n",
            "1532/1532 [==============================] - 25s 17ms/step - loss: 0.5459 - accuracy: 0.7238 - val_loss: 0.5294 - val_accuracy: 0.7318\n",
            "Epoch 29/40\n",
            "1532/1532 [==============================] - 26s 17ms/step - loss: 0.5458 - accuracy: 0.7236 - val_loss: 0.5311 - val_accuracy: 0.7317\n",
            "Epoch 30/40\n",
            "1532/1532 [==============================] - 26s 17ms/step - loss: 0.5453 - accuracy: 0.7241 - val_loss: 0.5309 - val_accuracy: 0.7316\n",
            "Epoch 31/40\n",
            "1532/1532 [==============================] - 26s 17ms/step - loss: 0.5456 - accuracy: 0.7242 - val_loss: 0.5303 - val_accuracy: 0.7316\n",
            "Epoch 32/40\n",
            "1532/1532 [==============================] - 26s 17ms/step - loss: 0.5451 - accuracy: 0.7243 - val_loss: 0.5293 - val_accuracy: 0.7315\n",
            "Epoch 33/40\n",
            "1532/1532 [==============================] - 25s 16ms/step - loss: 0.5449 - accuracy: 0.7241 - val_loss: 0.5296 - val_accuracy: 0.7319\n",
            "Epoch 34/40\n",
            "1532/1532 [==============================] - 26s 17ms/step - loss: 0.5449 - accuracy: 0.7249 - val_loss: 0.5300 - val_accuracy: 0.7317\n",
            "Epoch 35/40\n",
            "1532/1532 [==============================] - 27s 17ms/step - loss: 0.5449 - accuracy: 0.7243 - val_loss: 0.5293 - val_accuracy: 0.7320\n",
            "Epoch 36/40\n",
            "1532/1532 [==============================] - 26s 17ms/step - loss: 0.5445 - accuracy: 0.7247 - val_loss: 0.5281 - val_accuracy: 0.7322\n",
            "Epoch 37/40\n",
            "1532/1532 [==============================] - 26s 17ms/step - loss: 0.5447 - accuracy: 0.7249 - val_loss: 0.5295 - val_accuracy: 0.7318\n",
            "Epoch 38/40\n",
            "1532/1532 [==============================] - 26s 17ms/step - loss: 0.5446 - accuracy: 0.7245 - val_loss: 0.5295 - val_accuracy: 0.7325\n",
            "Epoch 39/40\n",
            "1532/1532 [==============================] - 26s 17ms/step - loss: 0.5443 - accuracy: 0.7245 - val_loss: 0.5306 - val_accuracy: 0.7318\n",
            "Epoch 40/40\n",
            "1532/1532 [==============================] - 26s 17ms/step - loss: 0.5440 - accuracy: 0.7246 - val_loss: 0.5287 - val_accuracy: 0.7320\n"
          ]
        }
      ]
    },
    {
      "cell_type": "markdown",
      "source": [
        "#Evaluate model"
      ],
      "metadata": {
        "id": "upYEKbhgQ3cG"
      }
    },
    {
      "cell_type": "code",
      "source": [
        "accuracy_test = model.evaluate(X_test, y_test, verbose=2)\n",
        "print(accuracy_test)"
      ],
      "metadata": {
        "colab": {
          "base_uri": "https://localhost:8080/"
        },
        "id": "aOU79OR04TbD",
        "outputId": "fcbf902a-b05a-4299-d6f6-4ac37f1a49f5"
      },
      "execution_count": null,
      "outputs": [
        {
          "output_type": "stream",
          "name": "stdout",
          "text": [
            "15000/15000 - 117s - loss: 0.5304 - accuracy: 0.7311 - 117s/epoch - 8ms/step\n",
            "[0.5304377675056458, 0.7310666441917419]\n"
          ]
        }
      ]
    },
    {
      "cell_type": "markdown",
      "source": [
        "##Confusion matrix"
      ],
      "metadata": {
        "id": "XnrvBJyHQ8He"
      }
    },
    {
      "cell_type": "code",
      "source": [
        "from sklearn.metrics import confusion_matrix\n",
        "from sklearn.metrics import accuracy_score\n",
        "import itertools\n",
        "def plot_confusion_matrix(cm, \n",
        "                          classes, \n",
        "                          normalize=False,\n",
        "                          title='CM', \n",
        "                          cmap=plt.cm.Greens):\n",
        "# This function prints and plots the confusion matrix. Normalization can be applied by setting `normalize=True`\n",
        "\n",
        "    if normalize:\n",
        "        cm = cm.astype('float') / cm.sum(axis=1)[:, np.newaxis]\n",
        "        # print(\"Normalized confusion matrix\") # print(cm)\n",
        "\n",
        "    plt.imshow(cm, interpolation='nearest', cmap=cmap) \n",
        "    plt.title(title)\n",
        "    plt.colorbar()\n",
        "\n",
        "    tick_marks = np.arange(len(classes)) \n",
        "    plt.xticks(tick_marks, classes, rotation=45) \n",
        "    plt.yticks(tick_marks, classes)\n",
        "\n",
        "    fmt = '.2f' if normalize else 'd'\n",
        "    thresh = cm.max() / 2.\n",
        "    for i, j in itertools.product(range(cm.shape[0]), range(cm.shape[1])):\n",
        "        plt.text(j, i, format(cm[i, j], fmt), \n",
        "                 horizontalalignment=\"center\",\n",
        "                 color=\"white\" if cm[i, j] > thresh else \"black\")\n",
        "        plt.tight_layout() \n",
        "        plt.ylabel('True label') \n",
        "        plt.xlabel('Predicted label')"
      ],
      "metadata": {
        "id": "C-x7jUszMD_p"
      },
      "execution_count": null,
      "outputs": []
    },
    {
      "cell_type": "markdown",
      "source": [
        ""
      ],
      "metadata": {
        "id": "kzY0KE1aNwRg"
      }
    },
    {
      "cell_type": "code",
      "execution_count": null,
      "metadata": {
        "id": "BakY3cspQRIw"
      },
      "outputs": [],
      "source": [
        "y_test_rounded = np.argmax(y_test, axis=1)\n",
        "y_train_rounded = np.argmax(y_train, axis=1)"
      ]
    },
    {
      "cell_type": "code",
      "source": [
        "y_pred = model.predict(X_train)\n",
        "y_pred_rounded = np.argmax(y_pred, axis=1)"
      ],
      "metadata": {
        "id": "C9Y-niud2vph"
      },
      "execution_count": null,
      "outputs": []
    },
    {
      "cell_type": "code",
      "source": [
        "cmResults = confusion_matrix(y_train_rounded, y_pred_rounded)\n",
        "accuracy = accuracy_score(y_train_rounded, y_pred_rounded)"
      ],
      "metadata": {
        "id": "39UZozkG8ekx"
      },
      "execution_count": null,
      "outputs": []
    },
    {
      "cell_type": "code",
      "source": [
        "class_names = ['Negative', 'Positive']\n",
        "plt.figure(figsize=(7,7));\n",
        "plot_confusion_matrix(cmResults, classes=class_names, \n",
        "                      title=str(MODEL)+ \"\\n\" +\"Accuracy: \" + str((accuracy*100).round(1)) + \"%\" +\"\\n\"+\"Train Data\",\n",
        "                      cmap=plt.cm.Reds);"
      ],
      "metadata": {
        "colab": {
          "base_uri": "https://localhost:8080/",
          "height": 513
        },
        "id": "L7MpwB-78Nto",
        "outputId": "747fa7e4-7230-40dc-8ea3-8ba0e6b04b48"
      },
      "execution_count": null,
      "outputs": [
        {
          "output_type": "display_data",
          "data": {
            "image/png": "[encoded data removed]",
            "text/plain": [
              "<Figure size 504x504 with 2 Axes>"
            ]
          },
          "metadata": {
            "needs_background": "light"
          }
        }
      ]
    },
    {
      "cell_type": "markdown",
      "source": [
        "#MODEL including l2 regularization,dropout"
      ],
      "metadata": {
        "id": "YbiK50WEpNsC"
      }
    },
    {
      "cell_type": "code",
      "source": [
        "MODEL = \"nnlm-en-dim128\"\n",
        "VERSION = 2\n",
        "URL = \"https://tfhub.dev/google/\"+MODEL+\"/\"+str(VERSION)\n",
        "print (URL)"
      ],
      "metadata": {
        "colab": {
          "base_uri": "https://localhost:8080/"
        },
        "id": "4g3JIIijcVxT",
        "outputId": "7405586b-ea68-4efb-e02e-e7c202bf34de"
      },
      "execution_count": null,
      "outputs": [
        {
          "output_type": "stream",
          "name": "stdout",
          "text": [
            "https://tfhub.dev/google/nnlm-en-dim128/2\n"
          ]
        }
      ]
    },
    {
      "cell_type": "code",
      "source": [
        "hub_layer2 = hub.KerasLayer(URL, \n",
        "                           output_shape=[128], \n",
        "                           input_shape=[], \n",
        "                           dtype=tf.string\n",
        "                          )\n",
        "model = Sequential()\n",
        "model.add(hub_layer2)\n",
        "model.add(keras.layers.Dense(128,kernel_regularizer=regularizers.l2(0.01), activation='relu'))\n",
        "model.add(keras.layers.Dropout(0.5))\n",
        "model.add(keras.layers.Dense(64,kernel_regularizer=regularizers.l2(0.01), activation='relu'))\n",
        "model.add(keras.layers.Dropout(0.5))\n",
        "model.add(keras.layers.Dense(32,kernel_regularizer=regularizers.l2(0.01), activation='relu'))\n",
        "model.add(keras.layers.Dropout(0.5))\n",
        "model.add(keras.layers.Dense(2,kernel_regularizer=regularizers.l2(0.01), activation='softmax'))\n",
        "\n",
        "model.summary()"
      ],
      "metadata": {
        "colab": {
          "base_uri": "https://localhost:8080/"
        },
        "id": "9yqXzYsMSOCL",
        "outputId": "a8fa2495-403d-46f1-ccf0-48109e831e78"
      },
      "execution_count": null,
      "outputs": [
        {
          "output_type": "stream",
          "name": "stdout",
          "text": [
            "Model: \"sequential_8\"\n",
            "_________________________________________________________________\n",
            " Layer (type)                Output Shape              Param #   \n",
            "=================================================================\n",
            " keras_layer_8 (KerasLayer)  (None, 128)               124642688 \n",
            "                                                                 \n",
            " dense_21 (Dense)            (None, 128)               16512     \n",
            "                                                                 \n",
            " dropout_13 (Dropout)        (None, 128)               0         \n",
            "                                                                 \n",
            " dense_22 (Dense)            (None, 64)                8256      \n",
            "                                                                 \n",
            " dropout_14 (Dropout)        (None, 64)                0         \n",
            "                                                                 \n",
            " dense_23 (Dense)            (None, 32)                2080      \n",
            "                                                                 \n",
            " dropout_15 (Dropout)        (None, 32)                0         \n",
            "                                                                 \n",
            " dense_24 (Dense)            (None, 2)                 66        \n",
            "                                                                 \n",
            "=================================================================\n",
            "Total params: 124,669,602\n",
            "Trainable params: 26,914\n",
            "Non-trainable params: 124,642,688\n",
            "_________________________________________________________________\n"
          ]
        }
      ]
    },
    {
      "cell_type": "code",
      "source": [
        "model.compile(loss='categorical_crossentropy', optimizer='adam', metrics=['accuracy'])"
      ],
      "metadata": {
        "id": "yTy9zTFZSwoh"
      },
      "execution_count": null,
      "outputs": []
    },
    {
      "cell_type": "code",
      "source": [
        "keras.utils.plot_model(model, \n",
        "                       #to_file='model.png',\n",
        "                       show_shapes=True, show_layer_names=True, rankdir='LR', expand_nested=False, dpi=128)"
      ],
      "metadata": {
        "colab": {
          "base_uri": "https://localhost:8080/",
          "height": 72
        },
        "id": "28g9CaAISx4c",
        "outputId": "22c0bd89-572a-463c-8ade-751ea0040b77"
      },
      "execution_count": null,
      "outputs": [
        {
          "output_type": "execute_result",
          "data": {
            "image/png": "[encoded data removed]",
            "text/plain": [
              "<IPython.core.display.Image object>"
            ]
          },
          "metadata": {},
          "execution_count": 130
        }
      ]
    },
    {
      "cell_type": "code",
      "source": [
        "hist = model.fit(X_train, \n",
        "                 y_train, \n",
        "                 epochs=40, \n",
        "                 batch_size=512, \n",
        "                 validation_split=0.3,\n",
        "                 verbose = 1)"
      ],
      "metadata": {
        "colab": {
          "base_uri": "https://localhost:8080/"
        },
        "id": "pjwE_w8NS2Kg",
        "outputId": "0e1748d0-5b0a-4876-e242-5c1f47cae5c2"
      },
      "execution_count": null,
      "outputs": [
        {
          "output_type": "stream",
          "name": "stdout",
          "text": [
            "Epoch 1/40\n",
            "1532/1532 [==============================] - 30s 19ms/step - loss: 0.6932 - accuracy: 0.5006 - val_loss: 0.6932 - val_accuracy: 0.4994\n",
            "Epoch 2/40\n",
            "1532/1532 [==============================] - 25s 16ms/step - loss: 0.6932 - accuracy: 0.5001 - val_loss: 0.6932 - val_accuracy: 0.4994\n",
            "Epoch 3/40\n",
            "1532/1532 [==============================] - 27s 17ms/step - loss: 0.6932 - accuracy: 0.4995 - val_loss: 0.6932 - val_accuracy: 0.4994\n",
            "Epoch 4/40\n",
            "1532/1532 [==============================] - 30s 20ms/step - loss: 0.6932 - accuracy: 0.4997 - val_loss: 0.6932 - val_accuracy: 0.4994\n",
            "Epoch 5/40\n",
            "1532/1532 [==============================] - 29s 19ms/step - loss: 0.6932 - accuracy: 0.4996 - val_loss: 0.6931 - val_accuracy: 0.5006\n",
            "Epoch 6/40\n",
            "1532/1532 [==============================] - 28s 18ms/step - loss: 0.6932 - accuracy: 0.5008 - val_loss: 0.6932 - val_accuracy: 0.4994\n",
            "Epoch 7/40\n",
            "1532/1532 [==============================] - 24s 16ms/step - loss: 0.6932 - accuracy: 0.5006 - val_loss: 0.6931 - val_accuracy: 0.5006\n",
            "Epoch 8/40\n",
            "1532/1532 [==============================] - 26s 17ms/step - loss: 0.6932 - accuracy: 0.4992 - val_loss: 0.6931 - val_accuracy: 0.4994\n",
            "Epoch 9/40\n",
            "1532/1532 [==============================] - 24s 16ms/step - loss: 0.6932 - accuracy: 0.5003 - val_loss: 0.6932 - val_accuracy: 0.4994\n",
            "Epoch 10/40\n",
            "1532/1532 [==============================] - 26s 17ms/step - loss: 0.6932 - accuracy: 0.5008 - val_loss: 0.6932 - val_accuracy: 0.4994\n",
            "Epoch 11/40\n",
            "1532/1532 [==============================] - 24s 16ms/step - loss: 0.6932 - accuracy: 0.4999 - val_loss: 0.6932 - val_accuracy: 0.5006\n",
            "Epoch 12/40\n",
            "1532/1532 [==============================] - 26s 17ms/step - loss: 0.6932 - accuracy: 0.5002 - val_loss: 0.6932 - val_accuracy: 0.4994\n",
            "Epoch 13/40\n",
            "1532/1532 [==============================] - 24s 16ms/step - loss: 0.6932 - accuracy: 0.5003 - val_loss: 0.6932 - val_accuracy: 0.4994\n",
            "Epoch 14/40\n",
            "1532/1532 [==============================] - 25s 16ms/step - loss: 0.6932 - accuracy: 0.4988 - val_loss: 0.6932 - val_accuracy: 0.4994\n",
            "Epoch 15/40\n",
            "1532/1532 [==============================] - 24s 16ms/step - loss: 0.6932 - accuracy: 0.5008 - val_loss: 0.6931 - val_accuracy: 0.5006\n",
            "Epoch 16/40\n",
            "1532/1532 [==============================] - 24s 16ms/step - loss: 0.6932 - accuracy: 0.4992 - val_loss: 0.6931 - val_accuracy: 0.4994\n",
            "Epoch 17/40\n",
            "1532/1532 [==============================] - 25s 16ms/step - loss: 0.6932 - accuracy: 0.5002 - val_loss: 0.6932 - val_accuracy: 0.4994\n",
            "Epoch 18/40\n",
            "1532/1532 [==============================] - 24s 16ms/step - loss: 0.6932 - accuracy: 0.4998 - val_loss: 0.6932 - val_accuracy: 0.4994\n",
            "Epoch 19/40\n",
            "1532/1532 [==============================] - 24s 16ms/step - loss: 0.6932 - accuracy: 0.5012 - val_loss: 0.6932 - val_accuracy: 0.4994\n",
            "Epoch 20/40\n",
            "1532/1532 [==============================] - 25s 16ms/step - loss: 0.6932 - accuracy: 0.4999 - val_loss: 0.6931 - val_accuracy: 0.4994\n",
            "Epoch 21/40\n",
            "1532/1532 [==============================] - 24s 16ms/step - loss: 0.6932 - accuracy: 0.5009 - val_loss: 0.6932 - val_accuracy: 0.4994\n",
            "Epoch 22/40\n",
            "1532/1532 [==============================] - 24s 16ms/step - loss: 0.6932 - accuracy: 0.5000 - val_loss: 0.6931 - val_accuracy: 0.5006\n",
            "Epoch 23/40\n",
            "1532/1532 [==============================] - 25s 16ms/step - loss: 0.6932 - accuracy: 0.4991 - val_loss: 0.6931 - val_accuracy: 0.5006\n",
            "Epoch 24/40\n",
            "1532/1532 [==============================] - 24s 16ms/step - loss: 0.6932 - accuracy: 0.5005 - val_loss: 0.6931 - val_accuracy: 0.5006\n",
            "Epoch 25/40\n",
            "1532/1532 [==============================] - 29s 19ms/step - loss: 0.6932 - accuracy: 0.5005 - val_loss: 0.6932 - val_accuracy: 0.4994\n",
            "Epoch 26/40\n",
            "1532/1532 [==============================] - 24s 16ms/step - loss: 0.6932 - accuracy: 0.5003 - val_loss: 0.6932 - val_accuracy: 0.4994\n",
            "Epoch 27/40\n",
            "1532/1532 [==============================] - 24s 16ms/step - loss: 0.6932 - accuracy: 0.5000 - val_loss: 0.6931 - val_accuracy: 0.4994\n",
            "Epoch 28/40\n",
            "1532/1532 [==============================] - 25s 17ms/step - loss: 0.6932 - accuracy: 0.5003 - val_loss: 0.6932 - val_accuracy: 0.4994\n",
            "Epoch 29/40\n",
            "1532/1532 [==============================] - 25s 16ms/step - loss: 0.6932 - accuracy: 0.5004 - val_loss: 0.6932 - val_accuracy: 0.4994\n",
            "Epoch 30/40\n",
            "1532/1532 [==============================] - 24s 16ms/step - loss: 0.6932 - accuracy: 0.5006 - val_loss: 0.6932 - val_accuracy: 0.4994\n",
            "Epoch 31/40\n",
            "1532/1532 [==============================] - 24s 16ms/step - loss: 0.6932 - accuracy: 0.5003 - val_loss: 0.6932 - val_accuracy: 0.4994\n",
            "Epoch 32/40\n",
            "1532/1532 [==============================] - 25s 17ms/step - loss: 0.6932 - accuracy: 0.5000 - val_loss: 0.6932 - val_accuracy: 0.4994\n",
            "Epoch 33/40\n",
            "1532/1532 [==============================] - 25s 16ms/step - loss: 0.6932 - accuracy: 0.5005 - val_loss: 0.6931 - val_accuracy: 0.5006\n",
            "Epoch 34/40\n",
            "1532/1532 [==============================] - 25s 16ms/step - loss: 0.6932 - accuracy: 0.5010 - val_loss: 0.6931 - val_accuracy: 0.5006\n",
            "Epoch 35/40\n",
            "1532/1532 [==============================] - 25s 16ms/step - loss: 0.6932 - accuracy: 0.5003 - val_loss: 0.6932 - val_accuracy: 0.4994\n",
            "Epoch 36/40\n",
            "1532/1532 [==============================] - 25s 16ms/step - loss: 0.6932 - accuracy: 0.4998 - val_loss: 0.6932 - val_accuracy: 0.4994\n",
            "Epoch 37/40\n",
            "1532/1532 [==============================] - 25s 16ms/step - loss: 0.6932 - accuracy: 0.5008 - val_loss: 0.6932 - val_accuracy: 0.4994\n",
            "Epoch 38/40\n",
            "1532/1532 [==============================] - 25s 16ms/step - loss: 0.6932 - accuracy: 0.5003 - val_loss: 0.6931 - val_accuracy: 0.4994\n",
            "Epoch 39/40\n",
            "1532/1532 [==============================] - 25s 16ms/step - loss: 0.6932 - accuracy: 0.5010 - val_loss: 0.6932 - val_accuracy: 0.4994\n",
            "Epoch 40/40\n",
            "1532/1532 [==============================] - 24s 16ms/step - loss: 0.6932 - accuracy: 0.5001 - val_loss: 0.6932 - val_accuracy: 0.4994\n"
          ]
        }
      ]
    },
    {
      "cell_type": "code",
      "source": [
        "y_test_rounded = np.argmax(y_test, axis=1)\n",
        "y_train_rounded = np.argmax(y_train, axis=1)"
      ],
      "metadata": {
        "id": "StAxR0qap6GZ"
      },
      "execution_count": null,
      "outputs": []
    },
    {
      "cell_type": "code",
      "source": [
        "y_pred = model.predict(X_train)\n",
        "y_pred_rounded = np.argmax(y_pred, axis=1)"
      ],
      "metadata": {
        "id": "SygaOvtJqBNr"
      },
      "execution_count": null,
      "outputs": []
    },
    {
      "cell_type": "code",
      "source": [
        "class_names = ['Negative', 'Positive']\n",
        "plt.figure(figsize=(7,7));\n",
        "plot_confusion_matrix(cmResults, classes=class_names, \n",
        "                      title=str(MODEL)+ \"\\n\" +\"Accuracy: 50% \" +  \"%\" +\"\\n\"+\"Train Data\",\n",
        "                      cmap=plt.cm.Blues);"
      ],
      "metadata": {
        "id": "jcJ68-b7qUWJ"
      },
      "execution_count": null,
      "outputs": []
    },
    {
      "cell_type": "markdown",
      "source": [
        "#MODEL 3\n",
        " Changing the position of drop out layer"
      ],
      "metadata": {
        "id": "38DmPqwOo68Q"
      }
    },
    {
      "cell_type": "code",
      "source": [
        "model = Sequential()\n",
        "model.add(hub_layer2)\n",
        "model.add(keras.layers.Dense(128,kernel_regularizer=regularizers.l2(0.01), activation='relu'))\n",
        "\n",
        "model.add(keras.layers.Dense(64,kernel_regularizer=regularizers.l2(0.01), activation='relu'))\n",
        "\n",
        "model.add(keras.layers.Dense(32,kernel_regularizer=regularizers.l2(0.01), activation='relu'))\n",
        "\n",
        "model.add(keras.layers.Dense(2,kernel_regularizer=regularizers.l2(0.01), activation='softmax'))\n",
        "\n",
        "model.summary()"
      ],
      "metadata": {
        "colab": {
          "base_uri": "https://localhost:8080/"
        },
        "id": "7IjsPLonhNN2",
        "outputId": "ba82360f-c065-4fa3-fbaf-482fe28bf6f3"
      },
      "execution_count": null,
      "outputs": [
        {
          "output_type": "stream",
          "name": "stdout",
          "text": [
            "Model: \"sequential_9\"\n",
            "_________________________________________________________________\n",
            " Layer (type)                Output Shape              Param #   \n",
            "=================================================================\n",
            " keras_layer_8 (KerasLayer)  (None, 128)               124642688 \n",
            "                                                                 \n",
            " dense_25 (Dense)            (None, 128)               16512     \n",
            "                                                                 \n",
            " dense_26 (Dense)            (None, 64)                8256      \n",
            "                                                                 \n",
            " dense_27 (Dense)            (None, 32)                2080      \n",
            "                                                                 \n",
            " dense_28 (Dense)            (None, 2)                 66        \n",
            "                                                                 \n",
            "=================================================================\n",
            "Total params: 124,669,602\n",
            "Trainable params: 26,914\n",
            "Non-trainable params: 124,642,688\n",
            "_________________________________________________________________\n"
          ]
        }
      ]
    },
    {
      "cell_type": "code",
      "source": [
        "model.compile(loss='categorical_crossentropy', optimizer='adam', metrics=['accuracy'])"
      ],
      "metadata": {
        "id": "a1QZg51ghoGa"
      },
      "execution_count": null,
      "outputs": []
    },
    {
      "cell_type": "code",
      "source": [
        "hist = model.fit(X_train, \n",
        "                 y_train, \n",
        "                 epochs=40, \n",
        "                 batch_size=512, \n",
        "                 validation_split=0.3,\n",
        "                 verbose = 1)"
      ],
      "metadata": {
        "colab": {
          "base_uri": "https://localhost:8080/"
        },
        "id": "wAPtr9C2hpKp",
        "outputId": "65a6219a-362a-4078-8ac2-7a7a4fe25fbc"
      },
      "execution_count": null,
      "outputs": [
        {
          "output_type": "stream",
          "name": "stdout",
          "text": [
            "Epoch 1/40\n",
            "1532/1532 [==============================] - 25s 16ms/step - loss: 0.7721 - accuracy: 0.6728 - val_loss: 0.6794 - val_accuracy: 0.6787\n",
            "Epoch 2/40\n",
            "1532/1532 [==============================] - 24s 16ms/step - loss: 0.6795 - accuracy: 0.6786 - val_loss: 0.6779 - val_accuracy: 0.6809\n",
            "Epoch 3/40\n",
            "1532/1532 [==============================] - 25s 16ms/step - loss: 0.6791 - accuracy: 0.6789 - val_loss: 0.6784 - val_accuracy: 0.6804\n",
            "Epoch 4/40\n",
            "1532/1532 [==============================] - 24s 16ms/step - loss: 0.6790 - accuracy: 0.6789 - val_loss: 0.6780 - val_accuracy: 0.6803\n",
            "Epoch 5/40\n",
            "1532/1532 [==============================] - 24s 16ms/step - loss: 0.6788 - accuracy: 0.6794 - val_loss: 0.6778 - val_accuracy: 0.6810\n",
            "Epoch 6/40\n",
            "1532/1532 [==============================] - 24s 16ms/step - loss: 0.6786 - accuracy: 0.6794 - val_loss: 0.6778 - val_accuracy: 0.6806\n",
            "Epoch 7/40\n",
            "1532/1532 [==============================] - 25s 16ms/step - loss: 0.6785 - accuracy: 0.6797 - val_loss: 0.6778 - val_accuracy: 0.6796\n",
            "Epoch 8/40\n",
            "1532/1532 [==============================] - 24s 15ms/step - loss: 0.6786 - accuracy: 0.6793 - val_loss: 0.6793 - val_accuracy: 0.6778\n",
            "Epoch 9/40\n",
            "1532/1532 [==============================] - 24s 16ms/step - loss: 0.6785 - accuracy: 0.6796 - val_loss: 0.6785 - val_accuracy: 0.6795\n",
            "Epoch 10/40\n",
            "1532/1532 [==============================] - 25s 16ms/step - loss: 0.6785 - accuracy: 0.6794 - val_loss: 0.6796 - val_accuracy: 0.6782\n",
            "Epoch 11/40\n",
            "1532/1532 [==============================] - 24s 16ms/step - loss: 0.6785 - accuracy: 0.6796 - val_loss: 0.6781 - val_accuracy: 0.6796\n",
            "Epoch 12/40\n",
            "1532/1532 [==============================] - 24s 16ms/step - loss: 0.6784 - accuracy: 0.6799 - val_loss: 0.6775 - val_accuracy: 0.6810\n",
            "Epoch 13/40\n",
            "1532/1532 [==============================] - 24s 16ms/step - loss: 0.6784 - accuracy: 0.6796 - val_loss: 0.6779 - val_accuracy: 0.6799\n",
            "Epoch 14/40\n",
            "1532/1532 [==============================] - 24s 16ms/step - loss: 0.6783 - accuracy: 0.6798 - val_loss: 0.6774 - val_accuracy: 0.6814\n",
            "Epoch 15/40\n",
            "1532/1532 [==============================] - 24s 16ms/step - loss: 0.6782 - accuracy: 0.6797 - val_loss: 0.6776 - val_accuracy: 0.6827\n",
            "Epoch 16/40\n",
            "1532/1532 [==============================] - 24s 16ms/step - loss: 0.6783 - accuracy: 0.6797 - val_loss: 0.6773 - val_accuracy: 0.6823\n",
            "Epoch 17/40\n",
            "1532/1532 [==============================] - 24s 16ms/step - loss: 0.6782 - accuracy: 0.6800 - val_loss: 0.6800 - val_accuracy: 0.6770\n",
            "Epoch 18/40\n",
            "1532/1532 [==============================] - 24s 16ms/step - loss: 0.6781 - accuracy: 0.6799 - val_loss: 0.6772 - val_accuracy: 0.6809\n",
            "Epoch 19/40\n",
            "1532/1532 [==============================] - 24s 16ms/step - loss: 0.6782 - accuracy: 0.6799 - val_loss: 0.6780 - val_accuracy: 0.6799\n",
            "Epoch 20/40\n",
            "1532/1532 [==============================] - 24s 16ms/step - loss: 0.6781 - accuracy: 0.6802 - val_loss: 0.6771 - val_accuracy: 0.6823\n",
            "Epoch 21/40\n",
            "1532/1532 [==============================] - 24s 16ms/step - loss: 0.6781 - accuracy: 0.6804 - val_loss: 0.6771 - val_accuracy: 0.6813\n",
            "Epoch 22/40\n",
            "1532/1532 [==============================] - 25s 16ms/step - loss: 0.6780 - accuracy: 0.6801 - val_loss: 0.6772 - val_accuracy: 0.6815\n",
            "Epoch 23/40\n",
            "1532/1532 [==============================] - 24s 16ms/step - loss: 0.6781 - accuracy: 0.6798 - val_loss: 0.6772 - val_accuracy: 0.6824\n",
            "Epoch 24/40\n",
            "1532/1532 [==============================] - 25s 16ms/step - loss: 0.6781 - accuracy: 0.6802 - val_loss: 0.6772 - val_accuracy: 0.6823\n",
            "Epoch 25/40\n",
            "1532/1532 [==============================] - 24s 16ms/step - loss: 0.6780 - accuracy: 0.6800 - val_loss: 0.6771 - val_accuracy: 0.6826\n",
            "Epoch 26/40\n",
            "1532/1532 [==============================] - 24s 16ms/step - loss: 0.6781 - accuracy: 0.6804 - val_loss: 0.6780 - val_accuracy: 0.6797\n",
            "Epoch 27/40\n",
            "1532/1532 [==============================] - 25s 16ms/step - loss: 0.6780 - accuracy: 0.6805 - val_loss: 0.6773 - val_accuracy: 0.6822\n",
            "Epoch 28/40\n",
            "1532/1532 [==============================] - 24s 16ms/step - loss: 0.6780 - accuracy: 0.6803 - val_loss: 0.6775 - val_accuracy: 0.6820\n",
            "Epoch 29/40\n",
            "1532/1532 [==============================] - 24s 16ms/step - loss: 0.6780 - accuracy: 0.6802 - val_loss: 0.6775 - val_accuracy: 0.6810\n",
            "Epoch 30/40\n",
            "1532/1532 [==============================] - 24s 16ms/step - loss: 0.6780 - accuracy: 0.6801 - val_loss: 0.6778 - val_accuracy: 0.6805\n",
            "Epoch 31/40\n",
            "1532/1532 [==============================] - 24s 16ms/step - loss: 0.6780 - accuracy: 0.6802 - val_loss: 0.6771 - val_accuracy: 0.6820\n",
            "Epoch 32/40\n",
            "1532/1532 [==============================] - 24s 16ms/step - loss: 0.6779 - accuracy: 0.6805 - val_loss: 0.6774 - val_accuracy: 0.6805\n",
            "Epoch 33/40\n",
            "1532/1532 [==============================] - 24s 16ms/step - loss: 0.6781 - accuracy: 0.6803 - val_loss: 0.6771 - val_accuracy: 0.6821\n",
            "Epoch 34/40\n",
            "1532/1532 [==============================] - 25s 16ms/step - loss: 0.6780 - accuracy: 0.6801 - val_loss: 0.6781 - val_accuracy: 0.6791\n",
            "Epoch 35/40\n",
            "1532/1532 [==============================] - 24s 16ms/step - loss: 0.6779 - accuracy: 0.6803 - val_loss: 0.6772 - val_accuracy: 0.6812\n",
            "Epoch 36/40\n",
            "1532/1532 [==============================] - 24s 16ms/step - loss: 0.6780 - accuracy: 0.6803 - val_loss: 0.6770 - val_accuracy: 0.6812\n",
            "Epoch 37/40\n",
            "1532/1532 [==============================] - 24s 16ms/step - loss: 0.6779 - accuracy: 0.6803 - val_loss: 0.6770 - val_accuracy: 0.6816\n",
            "Epoch 38/40\n",
            "1532/1532 [==============================] - 28s 18ms/step - loss: 0.6779 - accuracy: 0.6801 - val_loss: 0.6777 - val_accuracy: 0.6803\n",
            "Epoch 39/40\n",
            "1532/1532 [==============================] - 24s 16ms/step - loss: 0.6779 - accuracy: 0.6805 - val_loss: 0.6771 - val_accuracy: 0.6820\n",
            "Epoch 40/40\n",
            "1532/1532 [==============================] - 24s 16ms/step - loss: 0.6780 - accuracy: 0.6804 - val_loss: 0.6770 - val_accuracy: 0.6826\n"
          ]
        }
      ]
    },
    {
      "cell_type": "markdown",
      "source": [
        "From the three models we can see that model with without l2 regularization provides better validation accuracy"
      ],
      "metadata": {
        "id": "OVw_E7GHjhMq"
      }
    },
    {
      "cell_type": "markdown",
      "source": [
        ""
      ],
      "metadata": {
        "id": "9eOvi7QySNhG"
      }
    }
  ],
  "metadata": {
    "accelerator": "GPU",
    "colab": {
      "collapsed_sections": [],
      "name": "Copy of Untitled0.ipynb",
      "provenance": []
    },
    "kernelspec": {
      "display_name": "Python 3",
      "name": "python3"
    },
    "language_info": {
      "name": "python"
    }
  },
  "nbformat": 4,
  "nbformat_minor": 0
}